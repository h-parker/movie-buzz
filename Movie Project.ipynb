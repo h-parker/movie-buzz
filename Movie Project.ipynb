{
 "cells": [
  {
   "cell_type": "code",
   "execution_count": 2,
   "metadata": {},
   "outputs": [],
   "source": [
    "# import everything we may need\n",
    "import mysql.connector\n",
    "from mysql.connector import errorcode\n",
    "import config\n",
    "import requests\n",
    "import time"
   ]
  },
  {
   "cell_type": "code",
   "execution_count": null,
   "metadata": {},
   "outputs": [],
   "source": [
    "# connect to AWS\n",
    "cnx = mysql.connector.connect(\n",
    "    host = config.host,\n",
    "    user = config.user,\n",
    "    passwd = config.password\n",
    ")\n",
    "\n",
    "# Establish cursor\n",
    "cursor = cnx.cursor()"
   ]
  },
  {
   "cell_type": "code",
   "execution_count": null,
   "metadata": {},
   "outputs": [],
   "source": [
    "## Close the connection\n",
    "def close_connections():\n",
    "    cursor.close()\n",
    "    conn.close()"
   ]
  },
  {
   "cell_type": "code",
   "execution_count": null,
   "metadata": {},
   "outputs": [],
   "source": [
    "#name the db\n",
    "db_name = 'Mod_1_Project'"
   ]
  },
  {
   "cell_type": "code",
   "execution_count": null,
   "metadata": {},
   "outputs": [],
   "source": [
    "# create database in AWS\n",
    "def create_database(cursor, database_name):\n",
    "    try:\n",
    "        cursor.execute(\n",
    "            \"CREATE DATABASE {} DEFAULT CHARACTER SET 'utf8'\".format(database_name))\n",
    "    except mysql.connector.Error as err:\n",
    "        ## Catch the error if an error occurs.\n",
    "        print(\"Failed creating database: {}\".format(err))\n",
    "        exit(1)\n",
    "        \n",
    "try:\n",
    "    cursor.execute(\"USE {}\".format(db_name))\n",
    "except mysql.connector.Error as err:\n",
    "    print(\"Database {} does not exist.\".format(db_name))\n",
    "    if err.errno == errorcode.ER_BAD_DB_ERROR:\n",
    "        create_database(cursor, db_name)\n",
    "        print(\"Database {} created successfully.\".format(db_name))\n",
    "        cnx.database = db_name\n",
    "    else:\n",
    "        print(err)\n",
    "        exit(1)"
   ]
  },
  {
   "cell_type": "code",
   "execution_count": 37,
   "metadata": {},
   "outputs": [
    {
     "data": {
      "text/plain": [
       "{'Search': [{'Title': 'Finding Nemo',\n",
       "   'Year': '2003',\n",
       "   'imdbID': 'tt0266543',\n",
       "   'Type': 'movie',\n",
       "   'Poster': 'https://m.media-amazon.com/images/M/MV5BZTAzNWZlNmUtZDEzYi00ZjA5LWIwYjEtZGM1NWE1MjE4YWRhXkEyXkFqcGdeQXVyNjU0OTQ0OTY@._V1_SX300.jpg'},\n",
       "  {'Title': 'Finding Nemo',\n",
       "   'Year': '2003',\n",
       "   'imdbID': 'tt0401422',\n",
       "   'Type': 'game',\n",
       "   'Poster': 'https://m.media-amazon.com/images/M/MV5BNGEzMjdiZGEtYzU3ZC00OGFmLWI3NTgtZTcyNTFjYTliNDg5XkEyXkFqcGdeQXVyNjExODE1MDc@._V1_SX300.jpg'},\n",
       "  {'Title': 'Finding Nemo Submarine Voyage',\n",
       "   'Year': '2007',\n",
       "   'imdbID': 'tt1319713',\n",
       "   'Type': 'movie',\n",
       "   'Poster': 'https://images-na.ssl-images-amazon.com/images/M/MV5BMzAxMzMyODQtNWY0Yy00N2M3LWE5MDQtZDUzNjc1ZGFmMzA4XkEyXkFqcGdeQXVyMzkxMzc4Mw@@._V1_SX300.jpg'},\n",
       "  {'Title': 'Finding Nemo: Studio Tour of Pixar',\n",
       "   'Year': '2003',\n",
       "   'imdbID': 'tt1248974',\n",
       "   'Type': 'movie',\n",
       "   'Poster': 'N/A'}],\n",
       " 'totalResults': '4',\n",
       " 'Response': 'True'}"
      ]
     },
     "execution_count": 37,
     "metadata": {},
     "output_type": "execute_result"
    }
   ],
   "source": [
    "#Make call to API\n",
    "def OMDB_call():\n",
    "    response = requests.get(url, params=parameters)\n",
    "    data = response.json()\n",
    "    return data\n",
    "\n",
    "key = config.apiKey\n",
    "url = 'http://www.omdbapi.com/?i=tt3896198&apikey=6bc5a4e2'\n",
    "parameters = {'t': 'Finding Nemo'}\n",
    "\n",
    "OMDB_call()\n",
    "\n",
    "# #Iterate over list of titles to retrieve all\n",
    "# titles = [] #this list would come from box office mojo\n",
    "# def get_all_titles():\n",
    "#     for title in titles:\n",
    "#         OMBD_call(title)"
   ]
  },
  {
   "cell_type": "code",
   "execution_count": null,
   "metadata": {},
   "outputs": [],
   "source": [
    "#Create tables to input data\n"
   ]
  }
 ],
 "metadata": {
  "kernelspec": {
   "display_name": "Python 3",
   "language": "python",
   "name": "python3"
  },
  "language_info": {
   "codemirror_mode": {
    "name": "ipython",
    "version": 3
   },
   "file_extension": ".py",
   "mimetype": "text/x-python",
   "name": "python",
   "nbconvert_exporter": "python",
   "pygments_lexer": "ipython3",
   "version": "3.7.3"
  }
 },
 "nbformat": 4,
 "nbformat_minor": 2
}
